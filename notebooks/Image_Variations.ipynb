{
 "cells": [
  {
   "cell_type": "code",
   "execution_count": null,
   "metadata": {
    "collapsed": true
   },
   "outputs": [],
   "source": [
    "data_path = '/Users/ryoungblood/image_similarity/original_images/'"
   ]
  },
  {
   "cell_type": "code",
   "execution_count": null,
   "metadata": {
    "collapsed": true
   },
   "outputs": [],
   "source": [
    "data_path = '/Users/ryoungblood/image_similarity/kris_images/Winchester/'"
   ]
  },
  {
   "cell_type": "code",
   "execution_count": null,
   "metadata": {
    "collapsed": false
   },
   "outputs": [],
   "source": [
    "%matplotlib inline\n",
    "\n",
    "import os\n",
    "import cv2\n",
    "import random\n",
    "import numpy as np\n",
    "import matplotlib.pyplot as plt\n",
    "from copy import deepcopy\n",
    "import math"
   ]
  },
  {
   "cell_type": "code",
   "execution_count": null,
   "metadata": {
    "collapsed": false,
    "scrolled": true
   },
   "outputs": [],
   "source": [
    "img_bgr = cv2.imread(os.path.join(data_path,'united'))\n",
    "img_rgb = cv2.cvtColor(img_bgr, cv2.COLOR_BGR2RGB)"
   ]
  },
  {
   "cell_type": "markdown",
   "metadata": {},
   "source": [
    "## Base Image"
   ]
  },
  {
   "cell_type": "code",
   "execution_count": null,
   "metadata": {
    "collapsed": false
   },
   "outputs": [],
   "source": [
    "plt.imshow(img_rgb)"
   ]
  },
  {
   "cell_type": "markdown",
   "metadata": {},
   "source": [
    "## Image Variations"
   ]
  },
  {
   "cell_type": "markdown",
   "metadata": {},
   "source": [
    "### Single Channel (Luminosity) - Grayscale"
   ]
  },
  {
   "cell_type": "code",
   "execution_count": null,
   "metadata": {
    "collapsed": true
   },
   "outputs": [],
   "source": [
    "img_gray = cv2.cvtColor(img_rgb, cv2.COLOR_RGB2GRAY)"
   ]
  },
  {
   "cell_type": "code",
   "execution_count": null,
   "metadata": {
    "collapsed": false
   },
   "outputs": [],
   "source": [
    "plt.imshow(img_gray, cmap='gray')"
   ]
  },
  {
   "cell_type": "markdown",
   "metadata": {},
   "source": [
    "### Single Channel (Luminosity) - Jet"
   ]
  },
  {
   "cell_type": "code",
   "execution_count": null,
   "metadata": {
    "collapsed": false
   },
   "outputs": [],
   "source": [
    "plt.imshow(img_gray, cmap='jet')"
   ]
  },
  {
   "cell_type": "markdown",
   "metadata": {},
   "source": [
    "### Resize Each Axis by X%"
   ]
  },
  {
   "cell_type": "code",
   "execution_count": null,
   "metadata": {
    "collapsed": false
   },
   "outputs": [],
   "source": [
    "img_rgb_resizeXpct = cv2.resize(img_rgb, dsize=(0,0), fx=5, fy=5)\n",
    "plt.imshow(img_rgb_resizeXpct)"
   ]
  },
  {
   "cell_type": "code",
   "execution_count": null,
   "metadata": {
    "collapsed": true
   },
   "outputs": [],
   "source": [
    "img_bgr_resizeXpct = cv2.cvtColor(img_rgb_resizeXpct,cv2.COLOR_RGB2BGR)"
   ]
  },
  {
   "cell_type": "code",
   "execution_count": null,
   "metadata": {
    "collapsed": false
   },
   "outputs": [],
   "source": [
    "cv2.imwrite(os.path.join(data_path,'united_5.jpg'),img_bgr_resizeXpct)"
   ]
  },
  {
   "cell_type": "code",
   "execution_count": null,
   "metadata": {
    "collapsed": false
   },
   "outputs": [],
   "source": [
    "img_rgb_rs_100pct = cv2.resize(img_rgb_resizeXpct, dsize=(0,0),\n",
    "                               fx=2.0, fy=2.0)\n",
    "plt.imshow(img_rgb_rs_100pct)"
   ]
  },
  {
   "cell_type": "markdown",
   "metadata": {},
   "source": [
    "### Resize to Arbitrary 500x500"
   ]
  },
  {
   "cell_type": "code",
   "execution_count": null,
   "metadata": {
    "collapsed": false
   },
   "outputs": [],
   "source": [
    "img_rgb_thumb_500_500 = cv2.resize(img_rgb, dsize=(500,500))\n",
    "plt.imshow(img_rgb_thumb_500_500)"
   ]
  },
  {
   "cell_type": "markdown",
   "metadata": {},
   "source": [
    "### Rotate Random Angle"
   ]
  },
  {
   "cell_type": "code",
   "execution_count": null,
   "metadata": {
    "collapsed": true
   },
   "outputs": [],
   "source": [
    "# rotate function from http://john.freml.in/opencv-rotation\n",
    "def rotate_about_center(src, angle, scale=1.):\n",
    "    w = src.shape[1]\n",
    "    print('w: ',w)\n",
    "    h = src.shape[0]\n",
    "    print('h: ',h)\n",
    "    rangle = np.deg2rad(angle)  # angle in radians\n",
    "    # now calculate new image width and height\n",
    "    nw = (abs(np.sin(rangle)*h) + abs(np.cos(rangle)*w))*scale\n",
    "    print('nw: ',nw)\n",
    "    nh = (abs(np.cos(rangle)*h) + abs(np.sin(rangle)*w))*scale\n",
    "    print('nh: ',nh)\n",
    "    # ask OpenCV for the rotation matrix\n",
    "    rot_mat = cv2.getRotationMatrix2D((nw*0.5, nh*0.5), angle, scale)\n",
    "    # calculate the move from the old center to the new center combined\n",
    "    # with the rotation\n",
    "    rot_move = np.dot(rot_mat, np.array([(nw-w)*0.5, (nh-h)*0.5,0]))\n",
    "    # the move only affects the translation, so update the translation\n",
    "    # part of the transform\n",
    "    rot_mat[0,2] += rot_move[0]\n",
    "    rot_mat[1,2] += rot_move[1]\n",
    "    return cv2.warpAffine(src, rot_mat, (int(math.ceil(nw)), int(math.ceil(nh))), flags=cv2.INTER_LANCZOS4)"
   ]
  },
  {
   "cell_type": "code",
   "execution_count": null,
   "metadata": {
    "collapsed": false
   },
   "outputs": [],
   "source": [
    "#rows, cols = img_rgb.shape[:2]\n",
    "angle = random.randrange(0,360,90)\n",
    "print(angle)\n",
    "#M = cv2.getRotationMatrix2D((cols/2,cols/2),angle,1)\n",
    "#img_rgb_rot = cv2.warpAffine(img_rgb,M,(rows,cols))\n",
    "img_rgb_rot = rotate_about_center(img_rgb,angle)\n",
    "plt.imshow(img_rgb_rot)\n",
    "cv2.imwrite('/Users/ryoungblood/image_similarity/original_images/rotated.jpg',img_rgb_rot)"
   ]
  },
  {
   "cell_type": "markdown",
   "metadata": {},
   "source": [
    "### Center Image Subset"
   ]
  },
  {
   "cell_type": "code",
   "execution_count": null,
   "metadata": {
    "collapsed": false,
    "scrolled": true
   },
   "outputs": [],
   "source": [
    "x = .8 # will take the center x percent of each axis to form subset\n",
    "img_rgb_sub = img_rgb[\n",
    "    int(round((1-x)/2*img_rgb.shape[0],0)):int(round((x+(1-x)/2)*img_rgb.shape[0],0)),\n",
    "    int(round((1-x)/2*img_rgb.shape[1],0)):int(round((x+(1-x)/2)*img_rgb.shape[1],0))\n",
    "]\n",
    "plt.imshow(img_rgb_sub)"
   ]
  },
  {
   "cell_type": "markdown",
   "metadata": {},
   "source": [
    "### Gaussian Blur"
   ]
  },
  {
   "cell_type": "code",
   "execution_count": null,
   "metadata": {
    "collapsed": false
   },
   "outputs": [],
   "source": [
    "img_rgb_gauss = cv2.GaussianBlur(img_rgb, (13,13), 0)\n",
    "plt.imshow(img_rgb_gauss)"
   ]
  },
  {
   "cell_type": "markdown",
   "metadata": {},
   "source": [
    "### Noise Added"
   ]
  },
  {
   "cell_type": "code",
   "execution_count": null,
   "metadata": {
    "collapsed": false
   },
   "outputs": [],
   "source": [
    "img = cv2.imread('/Users/ryoungblood/opencv_tests/data/gradient.jpg',0)\n",
    "print(img.shape)\n",
    "print(img[:10,:10])\n",
    "\n",
    "ret,thresh1 = cv2.threshold(img,127,255,cv2.THRESH_BINARY)\n",
    "ret,thresh2 = cv2.threshold(img,127,255,cv2.THRESH_BINARY_INV)\n",
    "ret,thresh3 = cv2.threshold(img,127,255,cv2.THRESH_TRUNC)\n",
    "ret,thresh4 = cv2.threshold(img,127,255,cv2.THRESH_TOZERO)\n",
    "ret,thresh5 = cv2.threshold(img,127,255,cv2.THRESH_TOZERO_INV)\n",
    "\n",
    "titles = ['Original Image','BINARY','BINARY_INV','TRUNC','TOZERO','TOZERO_INV']\n",
    "images = [img, thresh1, thresh2, thresh3, thresh4, thresh5]\n",
    "\n",
    "for i in range(6):\n",
    "    plt.subplot(2,3,i+1),plt.imshow(images[i],'gray')\n",
    "    plt.title(titles[i])\n",
    "    plt.xticks([]),plt.yticks([])\n",
    "\n",
    "plt.show()\n"
   ]
  },
  {
   "cell_type": "markdown",
   "metadata": {},
   "source": [
    "### Random Image Subset"
   ]
  },
  {
   "cell_type": "code",
   "execution_count": null,
   "metadata": {
    "collapsed": false
   },
   "outputs": [],
   "source": [
    "img = cv2.imread(os.path.join(data_path,'01.jpg'))\n",
    "rows, cols = img.shape[:2]\n",
    "print(rows)\n",
    "print(cols)"
   ]
  },
  {
   "cell_type": "code",
   "execution_count": null,
   "metadata": {
    "collapsed": false
   },
   "outputs": [],
   "source": [
    "# will take x_size_pct percent of the x-axis, starting at column x_loc\n",
    "x_pct_range = (.1,.9) \n",
    "x_size_pct = random.uniform(x_pct_range[0],x_pct_range[1]) \n",
    "x_size = int(round(x_size_pct * cols))\n",
    "print(\"x size %: \",x_size_pct)\n",
    "print(\"x size:   \",x_size)\n",
    "\n",
    "y_pct_range = (.1,.9)\n",
    "y_size_pct = random.uniform(y_pct_range[0],y_pct_range[1])\n",
    "y_size = int(round(y_size_pct * rows))\n",
    "print(\"y size %: \",y_size_pct)\n",
    "print(\"y size:   \",y_size)\n",
    "\n",
    "#if x_size is 0.7, then x_loc (the left-bound of the window) can be 0-0.3\n",
    "x_loc_pct = random.uniform(0,1-x_size_pct)\n",
    "x_loc = int(round(x_loc_pct * cols))\n",
    "print(\"x loc %: \",x_loc_pct)\n",
    "print(\"x loc:   \",x_loc)\n",
    "y_loc_pct = random.uniform(0,1-y_size_pct)\n",
    "y_loc = int(round(y_loc_pct * rows))\n",
    "print(\"y loc %: \",y_loc_pct)\n",
    "print(\"y loc:   \",y_loc)\n",
    "\n",
    "img_overlay = deepcopy(img)\n",
    "img_overlay[y_loc:(y_loc+y_size),x_loc] = (0,0,255)\n",
    "img_overlay[y_loc:(y_loc+y_size),x_loc+x_size] = (0,0,255)\n",
    "img_overlay[y_loc,x_loc:(x_loc+x_size)] = (0,0,255)\n",
    "img_overlay[y_loc+y_size,x_loc:(x_loc+x_size)] = (0,0,255)\n",
    "plt.imshow(cv2.cvtColor(img_overlay,cv2.COLOR_BGR2RGB))\n",
    "plt.show()\n",
    "img_rsub = img[y_loc:(y_loc+y_size),x_loc:(x_loc+x_size)]\n",
    "plt.imshow(cv2.cvtColor(img_rsub,cv2.COLOR_BGR2RGB))\n",
    "plt.show()"
   ]
  },
  {
   "cell_type": "code",
   "execution_count": null,
   "metadata": {
    "collapsed": false
   },
   "outputs": [],
   "source": [
    "img_0 = rotate_about_center(img_bgr,0)\n",
    "img_90 = rotate_about_center(img_bgr,90)\n",
    "img_180 = rotate_about_center(img_bgr,180)\n",
    "img_270 = rotate_about_center(img_bgr,270)\n",
    "cv2.imwrite('/Users/ryoungblood/image_similarity/original_images/rotated0.jpg',img_0)\n",
    "cv2.imwrite('/Users/ryoungblood/image_similarity/original_images/rotated90.jpg',img_90)\n",
    "cv2.imwrite('/Users/ryoungblood/image_similarity/original_images/rotated180.jpg',img_180)\n",
    "cv2.imwrite('/Users/ryoungblood/image_similarity/original_images/rotated270.jpg',img_270)"
   ]
  },
  {
   "cell_type": "code",
   "execution_count": null,
   "metadata": {
    "collapsed": false
   },
   "outputs": [],
   "source": [
    "print(img_0.shape)\n",
    "print(img_90.shape)\n",
    "print(img_180.shape)\n",
    "print(img_270.shape)"
   ]
  },
  {
   "cell_type": "code",
   "execution_count": null,
   "metadata": {
    "collapsed": true
   },
   "outputs": [],
   "source": []
  }
 ],
 "metadata": {
  "kernelspec": {
   "display_name": "Python 2",
   "language": "python",
   "name": "python2"
  },
  "language_info": {
   "codemirror_mode": {
    "name": "ipython",
    "version": 2
   },
   "file_extension": ".py",
   "mimetype": "text/x-python",
   "name": "python",
   "nbconvert_exporter": "python",
   "pygments_lexer": "ipython2",
   "version": "2.7.11"
  }
 },
 "nbformat": 4,
 "nbformat_minor": 0
}
