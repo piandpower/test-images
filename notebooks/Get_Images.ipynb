{
 "cells": [
  {
   "cell_type": "code",
   "execution_count": null,
   "metadata": {
    "collapsed": false
   },
   "outputs": [],
   "source": [
    "%cd ~/image_similarity/atf_images/\n",
    "%ls"
   ]
  },
  {
   "cell_type": "code",
   "execution_count": null,
   "metadata": {
    "collapsed": true
   },
   "outputs": [],
   "source": [
    "import os\n",
    "import cv2\n",
    "import urllib\n",
    "import matplotlib.pyplot as plt\n",
    "%matplotlib inline\n",
    "\n",
    "import json"
   ]
  },
  {
   "cell_type": "code",
   "execution_count": null,
   "metadata": {
    "collapsed": false
   },
   "outputs": [],
   "source": [
    "base_dir = os.getcwd()\n",
    "source_dir = os.path.join(base_dir,'images')\n",
    "#dest_dir = os.path.join(base_dir,'images_jpg')\n",
    "parts_dir = os.path.join(base_dir,'parts')"
   ]
  },
  {
   "cell_type": "code",
   "execution_count": null,
   "metadata": {
    "collapsed": true
   },
   "outputs": [],
   "source": [
    "image_dict = {}"
   ]
  },
  {
   "cell_type": "markdown",
   "metadata": {},
   "source": [
    "### read image_urls.txt and save each image locally into /images"
   ]
  },
  {
   "cell_type": "markdown",
   "metadata": {},
   "source": [
    "### dict: initalize top level items as 0-n\n",
    "### dict: add 'url'"
   ]
  },
  {
   "cell_type": "markdown",
   "metadata": {},
   "source": [
    "### make a copy of the images with extensions\n",
    "### dict: add 'filepath'"
   ]
  },
  {
   "cell_type": "code",
   "execution_count": null,
   "metadata": {
    "collapsed": false
   },
   "outputs": [],
   "source": [
    "url_list_file = os.path.join(base_dir,'image_urls.txt')\n",
    "cred_file = os.path.join(base_dir,'credentials.txt')\n",
    "image_dir = os.path.join(base_dir,'images')\n",
    "with open(cred_file,'r') as c:\n",
    "    creds = c.readline().rstrip() # rstrip strips the newline character\n",
    "    with open(url_list_file,'r') as f:\n",
    "        for i, line in enumerate(f):\n",
    "            line = line.rsplit('\\n',1)[0] # strip newline character\n",
    "\n",
    "            url = line.split('//',1)[0] + '//' + creds +line.split('//',1)[1]\n",
    "            image = url.rsplit('/',1)[1]\n",
    "\n",
    "            #img_path = os.path.join(image_dir,image)\n",
    "            #urllib.urlretrieve(url,img_path)\n",
    "            \n",
    "            temp_path = os.path.join(image_dir,'tempfile')\n",
    "            urllib.urlretrieve(url,temp_path)\n",
    "            \n",
    "            img = cv2.imread(temp_path)\n",
    "            img_path = os.path.join(image_dir,str(i)+'.jpg')\n",
    "            cv2.imwrite(img_path,img)\n",
    "            os.remove(temp_path)\n",
    "            \n",
    "            image_dict[i] = {}\n",
    "            image_dict[i]['url'] = url\n",
    "            image_dict[i]['filepath'] = img_path\n",
    "            image_dict[i]['image'] = img\n",
    "            "
   ]
  },
  {
   "cell_type": "markdown",
   "metadata": {},
   "source": [
    "### Human manually crops part-level features into separate images"
   ]
  },
  {
   "cell_type": "markdown",
   "metadata": {},
   "source": [
    "### Load part coordinates from json file"
   ]
  },
  {
   "cell_type": "code",
   "execution_count": null,
   "metadata": {
    "collapsed": false
   },
   "outputs": [],
   "source": []
  },
  {
   "cell_type": "markdown",
   "metadata": {},
   "source": [
    "### Display single image and its part images"
   ]
  },
  {
   "cell_type": "code",
   "execution_count": null,
   "metadata": {
    "collapsed": false,
    "scrolled": false
   },
   "outputs": [],
   "source": [
    "# Load part coordinates from json file\n",
    "part_locs_file = os.path.join(base_dir,'part_locs.json')\n",
    "with open(part_locs_file,'r') as f:\n",
    "    part_locs_text = f.read()\n",
    "    part_locs = json.loads(part_locs_text)\n",
    "\n",
    "# Display single image and its part images    \n",
    "#img_num = 0\n",
    "#img = image_dict[img_num]['image']\n",
    "#print(img.shape)\n",
    "#image_dict[img_num]['guns'] = []\n",
    "\n",
    "\n",
    "\n",
    "#plt.imshow(cv2.cvtColor(img,cv2.COLOR_BGR2RGB))\n",
    "#plt.show()\n",
    "for img_num, image_data in sorted(part_locs.items()):\n",
    "    img_num = int(img_num)\n",
    "    if True:#img_num == 6:\n",
    "        print('+'*20)\n",
    "        print(img_num)\n",
    "        print(img.shape)\n",
    "        print('full image:')\n",
    "        img = image_dict[int(img_num)]['image']\n",
    "        plt.imshow(cv2.cvtColor(img,cv2.COLOR_BGR2RGB))\n",
    "        plt.show()\n",
    "        print('+'*20)\n",
    "        image_dict[img_num]['guns'] = []\n",
    "        for i, gun in enumerate(part_locs[str(img_num)]):\n",
    "            image_dict[img_num]['guns'].append({'parts': {}})\n",
    "            print('='*10)\n",
    "            for part, values in gun['parts'].items():\n",
    "                print(values)\n",
    "                center, size = values['location'][0], values['location'][1]\n",
    "                print('center: ',center)\n",
    "                print('size: ',size)\n",
    "                print('img['+str(center[0]-size[0])+':'+str(center[0]+size[0])+','+str(center[1]-size[1])+':'+str(center[1]+size[1])+']')\n",
    "                part_img = img[center[0]-size[0]:center[0]+size[0],\n",
    "                               center[1]-size[1]:center[1]+size[1]]\n",
    "\n",
    "                # add part to index\n",
    "                image_dict[img_num]['guns'][i]['parts'][part] = {} \n",
    "                # add part coordinates to index\n",
    "                image_dict[img_num]['guns'][i]['parts'][part]['location'] = values['location'] \n",
    "                # add part image to index\n",
    "                image_dict[img_num]['guns'][i]['parts'][part]['image'] = part_img\n",
    "                # add part path to index and store image there\n",
    "                part_path = os.path.join(parts_dir,str(img_num)+'_'+part+'.jpg')\n",
    "                cv2.imwrite(part_path,part_img)\n",
    "                image_dict[img_num]['guns'][i]['parts'][part]['filepath'] = part_path\n",
    "\n",
    "                print(part+':')\n",
    "                plt.imshow(cv2.cvtColor(part_img,cv2.COLOR_BGR2RGB))\n",
    "                plt.show()\n"
   ]
  },
  {
   "cell_type": "code",
   "execution_count": null,
   "metadata": {
    "collapsed": true
   },
   "outputs": [],
   "source": [
    "# Load part coordinates from json file\n",
    "part_locs_file = os.path.join(base_dir,'part_locs.json')\n",
    "with open(part_locs_file,'r') as f:\n",
    "    part_locs_text = f.read()\n",
    "    part_locs = json.loads(part_locs_text)\n",
    "\n",
    "# Display single image and its part images    \n",
    "#img_num = 0\n",
    "#img = image_dict[img_num]['image']\n",
    "#print(img.shape)\n",
    "#image_dict[img_num]['guns'] = []\n",
    "\n",
    "\n",
    "\n",
    "#plt.imshow(cv2.cvtColor(img,cv2.COLOR_BGR2RGB))\n",
    "#plt.show()\n",
    "for img_num, image_data in sorted(part_locs.items()):\n",
    "    img_num = int(img_num)\n",
    "    print('+'*20)\n",
    "    print(img_num)\n",
    "    print(img.shape)\n",
    "    print('full image:')\n",
    "    img = image_dict[int(img_num)]['image']\n",
    "    plt.imshow(cv2.cvtColor(img,cv2.COLOR_BGR2RGB))\n",
    "    plt.show()\n",
    "    print('+'*20)\n",
    "    image_dict[img_num]['guns'] = []\n",
    "    for i, gun in enumerate(part_locs[str(img_num)]):\n",
    "        image_dict[img_num]['guns'].append({'parts': {}})\n",
    "        print('='*10)\n",
    "        for part, values in gun['parts'].items():\n",
    "            print(values)\n",
    "            center, size = values['location'][0], values['location'][1]\n",
    "            print('center: ',center)\n",
    "            print('size: ',size)\n",
    "            print('img['+str(center[0]-size[0])+':'+str(center[0]+size[0])+','+str(center[1]-size[1])+':'+str(center[1]+size[1])+']')\n",
    "            part_img = img[center[0]-size[0]:center[0]+size[0],\n",
    "                           center[1]-size[1]:center[1]+size[1]]\n",
    "\n",
    "            # add part to index\n",
    "            image_dict[img_num]['guns'][i]['parts'][part] = {} \n",
    "            # add part coordinates to index\n",
    "            image_dict[img_num]['guns'][i]['parts'][part]['location'] = values['location'] \n",
    "            # add part image to index\n",
    "            image_dict[img_num]['guns'][i]['parts'][part]['image'] = part_img\n",
    "            # add part path to index and store image there\n",
    "            part_path = os.path.join(parts_dir,str(img_num)+'_'+part+'.jpg')\n",
    "            cv2.imwrite(part_path,part_img)\n",
    "            image_dict[img_num]['guns'][i]['parts'][part]['filepath'] = part_path\n",
    "\n",
    "            print(part+':')\n",
    "            plt.imshow(cv2.cvtColor(part_img,cv2.COLOR_BGR2RGB))\n",
    "            plt.show()\n"
   ]
  },
  {
   "cell_type": "code",
   "execution_count": null,
   "metadata": {
    "collapsed": true
   },
   "outputs": [],
   "source": [
    "plt.imshow()"
   ]
  },
  {
   "cell_type": "code",
   "execution_count": null,
   "metadata": {
    "collapsed": true
   },
   "outputs": [],
   "source": [
    "import cv2\n",
    "import matplotlib.pyplot as plt\n",
    "\n",
    "class TestClass():\n",
    "    def __init__(self,img_path):\n",
    "        self.fname = img_path\n",
    "        self.img = cv2.imread(self.fname)\n",
    "        self.point = ()\n",
    "\n",
    "    def getCoord(self):\n",
    "        fig = plt.figure()\n",
    "        ax = fig.add_subplot(111)\n",
    "        plt.imshow(self.img)\n",
    "        cid = fig.canvas.mpl_connect('button_press_event', self.__onclick__)\n",
    "        plt.show()\n",
    "        return self.point\n",
    "\n",
    "    def __onclick__(self,click):\n",
    "        self.point = (click.xdata,click.ydata)\n",
    "        return self.point"
   ]
  },
  {
   "cell_type": "code",
   "execution_count": null,
   "metadata": {
    "collapsed": true
   },
   "outputs": [],
   "source": [
    "a = TestClass(os.path.join(image_dir,'1.jpg'))"
   ]
  },
  {
   "cell_type": "code",
   "execution_count": null,
   "metadata": {
    "collapsed": false
   },
   "outputs": [],
   "source": [
    "a.getCoord()"
   ]
  },
  {
   "cell_type": "code",
   "execution_count": null,
   "metadata": {
    "collapsed": false
   },
   "outputs": [],
   "source": [
    "image_dict[0]['parts'].keys()"
   ]
  },
  {
   "cell_type": "code",
   "execution_count": null,
   "metadata": {
    "collapsed": true
   },
   "outputs": [],
   "source": [
    "trigger\n",
    "barrel\n",
    "barrel_extension\n",
    "butt\n",
    "handle\n",
    "secondary_handle\n",
    "clip\n",
    "scope\n",
    "\n",
    "add fields for:\n",
    "    type\n",
    "    legality (at part level)\n",
    "    \n",
    "    \n",
    "change coord system to be center + size in each dimension\n",
    "add type and legality properties at the part level\n",
    "\n",
    "more generous margins\n",
    "\n",
    "need to address multiple guns per image\n",
    "so mult img per set, mult guns per img, and mult parts per gun"
   ]
  },
  {
   "cell_type": "code",
   "execution_count": null,
   "metadata": {
    "collapsed": false
   },
   "outputs": [],
   "source": [
    "\"n\":[\n",
    "\t\t\t{\"parts\": {\n",
    "\t\t\t\t\"barrel\": {\n",
    "\t\t\t\t\t\"location\": [[460,530],[,]]},\n",
    "\t\t\t\t\"butt\": {\n",
    "\t\t\t    \t\"location\": [[,],[,]]},\n",
    "\t\t\t    \"clip\": {\n",
    "\t\t\t    \t\"location\": [[,],[,]],\n",
    "\t\t\t    \t\"type\": \"banana\"},\n",
    "\t\t\t    \"handle\": {\n",
    "\t\t\t    \t\"location\": [[,],[,]]},\n",
    "\t\t\t    \"secondary_handle\": {\n",
    "\t\t\t    \t\"location\": [[,],[,]]},\n",
    "\t\t\t    \"trigger\": {\n",
    "\t\t\t\t\t\"location\": [[,],[,]]}\n",
    "\t\t\t\t}\n",
    "\t\t\t}\n",
    "\t\t]"
   ]
  },
  {
   "cell_type": "code",
   "execution_count": null,
   "metadata": {
    "collapsed": true
   },
   "outputs": [],
   "source": [
    "\"n\":[\n",
    "\t\t\t{\"parts\": {\n",
    "\t\t\t\t\"barrel\": {\n",
    "\t\t\t\t\t\"location\": [[,],[,]]},\n",
    "\t\t\t    \"handle\": {\n",
    "\t\t\t    \t\"location\": [[,],[,]]},\n",
    "\t\t\t    \"trigger\": {\n",
    "\t\t\t\t\t\"location\": [[,],[,]]}\n",
    "\t\t\t\t}\n",
    "\t\t\t}\n",
    "\t\t]"
   ]
  },
  {
   "cell_type": "code",
   "execution_count": null,
   "metadata": {
    "collapsed": true
   },
   "outputs": [],
   "source": [
    "one tab\n",
    "tab pinning\n",
    "tab suspender"
   ]
  }
 ],
 "metadata": {
  "kernelspec": {
   "display_name": "Python 2",
   "language": "python",
   "name": "python2"
  },
  "language_info": {
   "codemirror_mode": {
    "name": "ipython",
    "version": 2
   },
   "file_extension": ".py",
   "mimetype": "text/x-python",
   "name": "python",
   "nbconvert_exporter": "python",
   "pygments_lexer": "ipython2",
   "version": "2.7.11"
  }
 },
 "nbformat": 4,
 "nbformat_minor": 0
}
