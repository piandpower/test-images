{
 "cells": [
  {
   "cell_type": "code",
   "execution_count": null,
   "metadata": {
    "collapsed": false
   },
   "outputs": [],
   "source": [
    "%matplotlib inline\n",
    "\n",
    "%pylab inline\n",
    "pylab.rcParams['figure.figsize'] = (12,10)\n",
    "\n",
    "import os\n",
    "import cv2\n",
    "import matplotlib.pyplot as plt\n",
    "import numpy as np\n",
    "\n",
    "#data_path = '/Users/ryoungblood/opencv_tests/data/'\n",
    "#data_path = '/Users/ryoungblood/image_similarity/original_images/'\n",
    "data_path = '/Users/ryoungblood/image_similarity/kris_images/Winchester_small/'"
   ]
  },
  {
   "cell_type": "code",
   "execution_count": null,
   "metadata": {
    "collapsed": false
   },
   "outputs": [],
   "source": [
    "img = cv2.imread(os.path.join(data_path,'IMG_6121.JPG_resizeXpct.jpg'))\n",
    "plt.imshow(cv2.cvtColor(img,cv2.COLOR_BGR2RGB))"
   ]
  },
  {
   "cell_type": "code",
   "execution_count": null,
   "metadata": {
    "collapsed": false
   },
   "outputs": [],
   "source": [
    "#cv2.imwrite(os.path.join(data_path,'boot2.png'),img)"
   ]
  },
  {
   "cell_type": "code",
   "execution_count": null,
   "metadata": {
    "collapsed": false
   },
   "outputs": [],
   "source": [
    "img_gray = cv2.cvtColor(img, cv2.COLOR_BGR2GRAY)\n",
    "plt.imshow(img_gray, cmap='gray')"
   ]
  },
  {
   "cell_type": "code",
   "execution_count": null,
   "metadata": {
    "collapsed": false
   },
   "outputs": [],
   "source": [
    "img_negate = 255 - img_gray\n",
    "plt.imshow(img_negate, cmap='gray')"
   ]
  },
  {
   "cell_type": "code",
   "execution_count": null,
   "metadata": {
    "collapsed": false
   },
   "outputs": [],
   "source": [
    "# Get the horizontal Sobel\n",
    "img_sobel_h_64f = cv2.Sobel(img_negate,cv2.CV_64F,1,0,ksize=3)\n",
    "img_sobel_h_64f_abs = np.absolute(img_sobel_h_64f)\n",
    "img_sobel_h_8u = np.uint8(img_sobel_h_64f_abs)\n",
    "\n",
    "# Get the vertical Sobel\n",
    "img_sobel_v_64f = cv2.Sobel(img_negate,cv2.CV_64F,0,1,ksize=3)\n",
    "img_sobel_v_64f_abs = np.absolute(img_sobel_v_64f)\n",
    "img_sobel_v_8u = np.uint8(img_sobel_v_64f_abs)\n",
    "\n",
    "# Bitwise OR those two\n",
    "img_sobel = cv2.bitwise_or(img_sobel_h_8u,img_sobel_v_8u)\n",
    "print(img_sobel[:10,:10])\n",
    "\n",
    "plt.imshow(img_sobel, cmap='gray')"
   ]
  },
  {
   "cell_type": "code",
   "execution_count": null,
   "metadata": {
    "collapsed": false
   },
   "outputs": [],
   "source": [
    "img_gauss = cv2.GaussianBlur(img_sobel, (9,9), 0)\n",
    "plt.imshow(img_gauss, cmap='gray')"
   ]
  },
  {
   "cell_type": "code",
   "execution_count": null,
   "metadata": {
    "collapsed": false
   },
   "outputs": [],
   "source": [
    "print(img_gauss.shape)\n",
    "print(img_gauss[:10,:10])"
   ]
  },
  {
   "cell_type": "code",
   "execution_count": null,
   "metadata": {
    "collapsed": false,
    "scrolled": false
   },
   "outputs": [],
   "source": [
    "threshold = 50\n",
    "\n",
    "ret,img_binary = cv2.threshold(img_gauss,threshold,255,cv2.THRESH_BINARY)\n",
    "ret,img_binary_inv = cv2.threshold(img_gauss,threshold,255,cv2.THRESH_BINARY_INV)\n",
    "ret,img_trunc = cv2.threshold(img_gauss,threshold,255,cv2.THRESH_TRUNC)\n",
    "ret,img_tozero = cv2.threshold(img_gauss,threshold,255,cv2.THRESH_TOZERO)\n",
    "ret,img_tozero_inv = cv2.threshold(img_gauss,threshold,255,cv2.THRESH_TOZERO_INV)\n",
    "\n",
    "titles = ['Original Image','BINARY','BINARY_INV','TRUNC','TOZERO','TOZERO_INV']\n",
    "images = [img_gauss, img_binary, img_binary_inv, img_trunc, \n",
    "          img_tozero, img_tozero_inv]\n",
    "\n",
    "for i in range(6):\n",
    "    plt.subplot(2,3,i+1),plt.imshow(images[i],'gray')\n",
    "    plt.title(titles[i])\n",
    "    plt.xticks([]),plt.yticks([])\n",
    "\n",
    "plt.show()\n",
    "\n",
    "#plt.imshow(binary, cmap='gray')\n"
   ]
  },
  {
   "cell_type": "code",
   "execution_count": null,
   "metadata": {
    "collapsed": false,
    "scrolled": false
   },
   "outputs": [],
   "source": [
    "print('TOZERO')\n",
    "plt.imshow(img_tozero, cmap='gray')"
   ]
  },
  {
   "cell_type": "code",
   "execution_count": null,
   "metadata": {
    "collapsed": false,
    "scrolled": false
   },
   "outputs": [],
   "source": [
    "img_tozero_bgr = cv2.cvtColor(img_tozero, cv2.COLOR_GRAY2BGR)\n",
    "plt.imshow(img_tozero_bgr)"
   ]
  },
  {
   "cell_type": "code",
   "execution_count": null,
   "metadata": {
    "collapsed": false,
    "scrolled": false
   },
   "outputs": [],
   "source": [
    "mask = np.zeros((img_tozero.shape[0]+2,img_tozero.shape[1]+2),np.uint8)\n",
    "diff = (6,6,6)\n",
    "cv2.floodFill(image=img_tozero_bgr,mask=mask,seedPoint=(0,0),\n",
    "             newVal=(255,0,255),loDiff=diff,upDiff=diff, flags=4)\n",
    "cv2.floodFill(image=img_tozero_bgr,mask=mask,seedPoint=(img_tozero.shape[1]-1,0),\n",
    "             newVal=(255,0,255),loDiff=diff,upDiff=diff, flags=4)\n",
    "cv2.floodFill(image=img_tozero_bgr,mask=mask,seedPoint=(img_tozero.shape[1]-1,img_tozero.shape[0]-1),\n",
    "             newVal=(255,0,255),loDiff=diff,upDiff=diff, flags=4)\n",
    "\n",
    "cv2.floodFill(image=img_tozero_bgr,mask=mask,seedPoint=(0,img_tozero.shape[0]-1),\n",
    "             newVal=(255,0,255),loDiff=diff,upDiff=diff, flags=4)\n",
    "plt.imshow(img_tozero_bgr)"
   ]
  },
  {
   "cell_type": "code",
   "execution_count": null,
   "metadata": {
    "collapsed": false,
    "scrolled": false
   },
   "outputs": [],
   "source": [
    "plt.imshow(mask, cmap='gray')"
   ]
  },
  {
   "cell_type": "code",
   "execution_count": null,
   "metadata": {
    "collapsed": true
   },
   "outputs": [],
   "source": [
    "background_pass_mask = cv2.cvtColor(mask[1:-1,1:-1]*255,cv2.COLOR_GRAY2BGR)"
   ]
  },
  {
   "cell_type": "code",
   "execution_count": null,
   "metadata": {
    "collapsed": true
   },
   "outputs": [],
   "source": [
    "foreground_pass_mask = bitwise_not(background_pass_mask)"
   ]
  },
  {
   "cell_type": "code",
   "execution_count": null,
   "metadata": {
    "collapsed": false
   },
   "outputs": [],
   "source": [
    "new_bg_color = (0,255,255)\n",
    "new_bg = np.full(img.shape,new_bg_color,dtype=uint8)\n",
    "background = bitwise_and(new_bg,background_pass_mask)\n",
    "plt.imshow(background)"
   ]
  },
  {
   "cell_type": "code",
   "execution_count": null,
   "metadata": {
    "collapsed": false
   },
   "outputs": [],
   "source": [
    "foreground = bitwise_and(img,foreground_pass_mask)\n",
    "plt.imshow(foreground)"
   ]
  },
  {
   "cell_type": "code",
   "execution_count": null,
   "metadata": {
    "collapsed": false
   },
   "outputs": [],
   "source": [
    "output_img = foreground + background\n",
    "plt.imshow(output_img)"
   ]
  },
  {
   "cell_type": "code",
   "execution_count": null,
   "metadata": {
    "collapsed": true
   },
   "outputs": [],
   "source": []
  },
  {
   "cell_type": "code",
   "execution_count": null,
   "metadata": {
    "collapsed": true
   },
   "outputs": [],
   "source": []
  }
 ],
 "metadata": {
  "kernelspec": {
   "display_name": "Python 2",
   "language": "python",
   "name": "python2"
  },
  "language_info": {
   "codemirror_mode": {
    "name": "ipython",
    "version": 2
   },
   "file_extension": ".py",
   "mimetype": "text/x-python",
   "name": "python",
   "nbconvert_exporter": "python",
   "pygments_lexer": "ipython2",
   "version": "2.7.11"
  }
 },
 "nbformat": 4,
 "nbformat_minor": 0
}
